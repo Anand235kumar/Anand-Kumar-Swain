{
  "metadata": {
    "colab": {
      "provenance": [],
      "include_colab_link": true
    },
    "kernelspec": {
      "name": "python3",
      "display_name": "Python 3",
      "language": "python"
    },
    "language_info": {
      "name": "python",
      "version": "3.7.12",
      "mimetype": "text/x-python",
      "codemirror_mode": {
        "name": "ipython",
        "version": 3
      },
      "pygments_lexer": "ipython3",
      "nbconvert_exporter": "python",
      "file_extension": ".py"
    },
    "kaggle": {
      "accelerator": "none",
      "dataSources": [
        {
          "sourceId": 1880629,
          "sourceType": "datasetVersion",
          "datasetId": 1119908
        }
      ],
      "dockerImageVersionId": 30396,
      "isInternetEnabled": true,
      "language": "python",
      "sourceType": "notebook",
      "isGpuEnabled": false
    }
  },
  "nbformat_minor": 0,
  "nbformat": 4,
  "cells": [
    {
      "cell_type": "markdown",
      "metadata": {
        "id": "view-in-github",
        "colab_type": "text"
      },
      "source": [
        "<a href=\"https://colab.research.google.com/github/Anand235kumar/Anand-Kumar-Swain/blob/main/ECOM%20CUSTOMER%20CHURN%20ANALYSIS.ipynb\" target=\"_parent\"><img src=\"https://colab.research.google.com/assets/colab-badge.svg\" alt=\"Open In Colab\"/></a>"
      ]
    },
    {
      "source": [
        "# IMPORTANT: RUN THIS CELL IN ORDER TO IMPORT YOUR KAGGLE DATA SOURCES,\n",
        "# THEN FEEL FREE TO DELETE THIS CELL.\n",
        "# NOTE: THIS NOTEBOOK ENVIRONMENT DIFFERS FROM KAGGLE'S PYTHON\n",
        "# ENVIRONMENT SO THERE MAY BE MISSING LIBRARIES USED BY YOUR\n",
        "# NOTEBOOK.\n",
        "import kagglehub\n",
        "ankitverma2010_ecommerce_customer_churn_analysis_and_prediction_path = kagglehub.dataset_download('ankitverma2010/ecommerce-customer-churn-analysis-and-prediction')\n",
        "\n",
        "print('Data source import complete.')\n"
      ],
      "metadata": {
        "id": "m468_DVAcffv"
      },
      "cell_type": "code",
      "outputs": [],
      "execution_count": null
    },
    {
      "cell_type": "code",
      "source": [],
      "metadata": {
        "id": "mSSyuSfBcffz"
      },
      "execution_count": null,
      "outputs": []
    },
    {
      "cell_type": "code",
      "source": [],
      "metadata": {
        "id": "Jj5GldtLcffz"
      },
      "execution_count": null,
      "outputs": []
    },
    {
      "cell_type": "markdown",
      "source": [
        "\n",
        "\n",
        "#SETUP\n"
      ],
      "metadata": {
        "id": "GN9ZYC1ndOnL"
      }
    },
    {
      "cell_type": "code",
      "source": [
        "import pandas as pd\n",
        "pd.plotting.register_matplotlib_converters()\n",
        "import matplotlib.pyplot as plt\n",
        "%matplotlib inline\n",
        "import seaborn as sns"
      ],
      "metadata": {
        "id": "ok0KQHVtcb8p",
        "execution": {
          "iopub.status.busy": "2024-03-07T01:58:13.582766Z",
          "iopub.execute_input": "2024-03-07T01:58:13.583573Z",
          "iopub.status.idle": "2024-03-07T01:58:14.915839Z",
          "shell.execute_reply.started": "2024-03-07T01:58:13.583454Z",
          "shell.execute_reply": "2024-03-07T01:58:14.914667Z"
        },
        "trusted": true
      },
      "execution_count": null,
      "outputs": []
    },
    {
      "cell_type": "code",
      "source": [
        "commerce_filepath = \"/kaggle/input/ecommerce-customer-churn-analysis-and-prediction/E Commerce Dataset.xlsx\"\n",
        "pd.read_excel(commerce_filepath,sheet_name = \"E Comm\")\n",
        "df = pd.read_excel(commerce_filepath,sheet_name = \"E Comm\")"
      ],
      "metadata": {
        "id": "TvfQl5tWdTUv",
        "execution": {
          "iopub.status.busy": "2024-03-07T01:58:14.918756Z",
          "iopub.execute_input": "2024-03-07T01:58:14.919824Z",
          "iopub.status.idle": "2024-03-07T01:58:21.468606Z",
          "shell.execute_reply.started": "2024-03-07T01:58:14.919767Z",
          "shell.execute_reply": "2024-03-07T01:58:21.467224Z"
        },
        "trusted": true
      },
      "execution_count": null,
      "outputs": []
    },
    {
      "cell_type": "code",
      "source": [
        "df"
      ],
      "metadata": {
        "id": "8Z1cj9iBgY4a",
        "execution": {
          "iopub.status.busy": "2024-03-07T01:58:21.470166Z",
          "iopub.execute_input": "2024-03-07T01:58:21.47128Z",
          "iopub.status.idle": "2024-03-07T01:58:21.53281Z",
          "shell.execute_reply.started": "2024-03-07T01:58:21.471232Z",
          "shell.execute_reply": "2024-03-07T01:58:21.531332Z"
        },
        "trusted": true
      },
      "execution_count": null,
      "outputs": []
    },
    {
      "cell_type": "markdown",
      "source": [
        "#Check"
      ],
      "metadata": {
        "id": "Z6orAymkX7tt"
      }
    },
    {
      "cell_type": "code",
      "source": [
        "df.Churn.value_counts()"
      ],
      "metadata": {
        "id": "sYl8HeeImq2e",
        "execution": {
          "iopub.status.busy": "2024-03-07T01:58:21.535777Z",
          "iopub.execute_input": "2024-03-07T01:58:21.536279Z",
          "iopub.status.idle": "2024-03-07T01:58:21.552854Z",
          "shell.execute_reply.started": "2024-03-07T01:58:21.536237Z",
          "shell.execute_reply": "2024-03-07T01:58:21.551362Z"
        },
        "trusted": true
      },
      "execution_count": null,
      "outputs": []
    },
    {
      "cell_type": "code",
      "source": [
        "df.HourSpendOnApp.value_counts()"
      ],
      "metadata": {
        "id": "wDUHk3uZpBH4",
        "execution": {
          "iopub.status.busy": "2024-03-07T01:58:21.555246Z",
          "iopub.execute_input": "2024-03-07T01:58:21.556224Z",
          "iopub.status.idle": "2024-03-07T01:58:21.569997Z",
          "shell.execute_reply.started": "2024-03-07T01:58:21.556172Z",
          "shell.execute_reply": "2024-03-07T01:58:21.56811Z"
        },
        "trusted": true
      },
      "execution_count": null,
      "outputs": []
    },
    {
      "cell_type": "code",
      "source": [
        "df.CityTier.value_counts()"
      ],
      "metadata": {
        "id": "K9CdFUBbrVam",
        "execution": {
          "iopub.status.busy": "2024-03-07T01:58:21.571655Z",
          "iopub.execute_input": "2024-03-07T01:58:21.572099Z",
          "iopub.status.idle": "2024-03-07T01:58:21.583296Z",
          "shell.execute_reply.started": "2024-03-07T01:58:21.572064Z",
          "shell.execute_reply": "2024-03-07T01:58:21.58152Z"
        },
        "trusted": true
      },
      "execution_count": null,
      "outputs": []
    },
    {
      "cell_type": "code",
      "source": [
        "df.WarehouseToHome.value_counts()"
      ],
      "metadata": {
        "id": "AlU_YkliyOgM",
        "execution": {
          "iopub.status.busy": "2024-03-07T01:58:21.585689Z",
          "iopub.execute_input": "2024-03-07T01:58:21.586825Z",
          "iopub.status.idle": "2024-03-07T01:58:21.602723Z",
          "shell.execute_reply.started": "2024-03-07T01:58:21.586742Z",
          "shell.execute_reply": "2024-03-07T01:58:21.601204Z"
        },
        "trusted": true
      },
      "execution_count": null,
      "outputs": []
    },
    {
      "cell_type": "code",
      "source": [
        "df.describe().apply(lambda s: s.apply(lambda x: format(x,'f')))"
      ],
      "metadata": {
        "id": "KaIEQy-nhPv7",
        "execution": {
          "iopub.status.busy": "2024-03-07T01:58:21.60485Z",
          "iopub.execute_input": "2024-03-07T01:58:21.605318Z",
          "iopub.status.idle": "2024-03-07T01:58:21.690709Z",
          "shell.execute_reply.started": "2024-03-07T01:58:21.605281Z",
          "shell.execute_reply": "2024-03-07T01:58:21.689461Z"
        },
        "trusted": true
      },
      "execution_count": null,
      "outputs": []
    },
    {
      "cell_type": "code",
      "source": [
        "df.Tenure.value_counts()"
      ],
      "metadata": {
        "id": "r6EbRbFchzbi",
        "execution": {
          "iopub.status.busy": "2024-03-07T01:58:21.692861Z",
          "iopub.execute_input": "2024-03-07T01:58:21.693335Z",
          "iopub.status.idle": "2024-03-07T01:58:21.707474Z",
          "shell.execute_reply.started": "2024-03-07T01:58:21.693295Z",
          "shell.execute_reply": "2024-03-07T01:58:21.705465Z"
        },
        "trusted": true
      },
      "execution_count": null,
      "outputs": []
    },
    {
      "cell_type": "markdown",
      "source": [
        "#Visualisasi"
      ],
      "metadata": {
        "id": "x0iRddN6w8tw"
      }
    },
    {
      "cell_type": "code",
      "source": [
        "sns.countplot(x= df['CityTier'], data = df , hue = 'Churn')"
      ],
      "metadata": {
        "id": "0ERplRDCslqo",
        "execution": {
          "iopub.status.busy": "2024-03-07T01:58:21.713647Z",
          "iopub.execute_input": "2024-03-07T01:58:21.714117Z",
          "iopub.status.idle": "2024-03-07T01:58:22.051106Z",
          "shell.execute_reply.started": "2024-03-07T01:58:21.714081Z",
          "shell.execute_reply": "2024-03-07T01:58:22.049773Z"
        },
        "trusted": true
      },
      "execution_count": null,
      "outputs": []
    },
    {
      "cell_type": "markdown",
      "source": [
        "City Tier does not give a lot of influences towards churn. The ration between churn 1 and 0 can be said to be proportional in each city tier. However, there is a need to do further observation and review on the differences of the rasios (between churn) on each CityTier and compare each one (An assumption is made that the proposional of CityTier 1 is highly different that the other)."
      ],
      "metadata": {
        "id": "tf59OxVJwwu0"
      }
    },
    {
      "cell_type": "code",
      "source": [
        "sns.countplot(x=df['HourSpendOnApp'], data = df, hue ='Churn')"
      ],
      "metadata": {
        "id": "DMkkC1WbuTRU",
        "execution": {
          "iopub.status.busy": "2024-03-07T01:58:22.052615Z",
          "iopub.execute_input": "2024-03-07T01:58:22.053601Z",
          "iopub.status.idle": "2024-03-07T01:58:22.381175Z",
          "shell.execute_reply.started": "2024-03-07T01:58:22.05356Z",
          "shell.execute_reply": "2024-03-07T01:58:22.379395Z"
        },
        "trusted": true
      },
      "execution_count": null,
      "outputs": []
    },
    {
      "cell_type": "markdown",
      "source": [
        "HourSpendOnApp with highest count = 3.\n",
        "Proportion of Churn and Not-Churn each HourSpendOnApp are proportional.\n",
        "It means there may no high influences from this feature."
      ],
      "metadata": {
        "id": "JcfQaUQGxeJ5"
      }
    },
    {
      "cell_type": "code",
      "source": [
        "plt.figure(figsize=(15,6))\n",
        "sns.kdeplot(x= df['WarehouseToHome'], data = df, hue = 'Churn')\n"
      ],
      "metadata": {
        "id": "I-McMGonvSOk",
        "execution": {
          "iopub.status.busy": "2024-03-07T01:58:22.382917Z",
          "iopub.execute_input": "2024-03-07T01:58:22.383389Z",
          "iopub.status.idle": "2024-03-07T01:58:22.78985Z",
          "shell.execute_reply.started": "2024-03-07T01:58:22.383348Z",
          "shell.execute_reply": "2024-03-07T01:58:22.788357Z"
        },
        "trusted": true
      },
      "execution_count": null,
      "outputs": []
    },
    {
      "cell_type": "markdown",
      "source": [
        "The plot doesnt seem to have highly differences, each churn rised raised the number of not churn, except on some part some after it hit mark 20"
      ],
      "metadata": {
        "id": "DsNw6FtBcff9"
      }
    },
    {
      "cell_type": "code",
      "source": [
        "plt.figure(figsize=(15,6))\n",
        "sns.kdeplot(x= df['Tenure'], data = df, hue = 'Churn')\n"
      ],
      "metadata": {
        "id": "vMTr9Taazw-t",
        "execution": {
          "iopub.status.busy": "2024-03-07T01:58:22.791648Z",
          "iopub.execute_input": "2024-03-07T01:58:22.792226Z",
          "iopub.status.idle": "2024-03-07T01:58:23.21436Z",
          "shell.execute_reply.started": "2024-03-07T01:58:22.792185Z",
          "shell.execute_reply": "2024-03-07T01:58:23.212654Z"
        },
        "trusted": true
      },
      "execution_count": null,
      "outputs": []
    },
    {
      "cell_type": "markdown",
      "source": [
        "The data shows that both churn and not rises extremely in mark 0 but Not-Churn can be said to be stable until mark 10 while the churn one dropped drastically. This can be said that Tenure plays some important role to predict customer’s churn or not."
      ],
      "metadata": {
        "id": "sYsck62NVAFD"
      }
    },
    {
      "cell_type": "code",
      "source": [
        "plt.figure(figsize=(15,6))\n",
        "sns.kdeplot(x = df['NumberOfDeviceRegistered'], data = df, hue = 'Churn')"
      ],
      "metadata": {
        "id": "nqLwPnHG2A0q",
        "execution": {
          "iopub.status.busy": "2024-03-07T01:58:23.216314Z",
          "iopub.execute_input": "2024-03-07T01:58:23.217049Z",
          "iopub.status.idle": "2024-03-07T01:58:23.633853Z",
          "shell.execute_reply.started": "2024-03-07T01:58:23.216995Z",
          "shell.execute_reply": "2024-03-07T01:58:23.632392Z"
        },
        "trusted": true
      },
      "execution_count": null,
      "outputs": []
    },
    {
      "cell_type": "markdown",
      "source": [
        "NUmberofDevuceRegistered tidak memberikan pengaruh signifikan terhadap Churn"
      ],
      "metadata": {
        "id": "4mYEtW9g2ho3"
      }
    },
    {
      "cell_type": "code",
      "source": [
        "sns.countplot(x = df['SatisfactionScore'], data = df, hue = 'Churn')"
      ],
      "metadata": {
        "id": "cQDAO2o22oKz",
        "execution": {
          "iopub.status.busy": "2024-03-07T01:58:23.635842Z",
          "iopub.execute_input": "2024-03-07T01:58:23.637231Z",
          "iopub.status.idle": "2024-03-07T01:58:23.992813Z",
          "shell.execute_reply.started": "2024-03-07T01:58:23.63717Z",
          "shell.execute_reply": "2024-03-07T01:58:23.991441Z"
        },
        "trusted": true
      },
      "execution_count": null,
      "outputs": []
    },
    {
      "cell_type": "markdown",
      "source": [
        "Satisfaction score tidak membawa pengaurh signifikan terhadap churn"
      ],
      "metadata": {
        "id": "SsntoHYxVazB"
      }
    },
    {
      "cell_type": "code",
      "source": [
        "df.NumberOfAddress.value_counts()"
      ],
      "metadata": {
        "id": "5PPQK1ry3AoA",
        "execution": {
          "iopub.status.busy": "2024-03-07T01:58:23.994827Z",
          "iopub.execute_input": "2024-03-07T01:58:23.995682Z",
          "iopub.status.idle": "2024-03-07T01:58:24.011342Z",
          "shell.execute_reply.started": "2024-03-07T01:58:23.995631Z",
          "shell.execute_reply": "2024-03-07T01:58:24.008454Z"
        },
        "trusted": true
      },
      "execution_count": null,
      "outputs": []
    },
    {
      "cell_type": "code",
      "source": [
        "sns.kdeplot(x= df['NumberOfAddress'], data = df, hue = 'Churn')"
      ],
      "metadata": {
        "id": "srtmp_RQ3ace",
        "execution": {
          "iopub.status.busy": "2024-03-07T01:58:24.013766Z",
          "iopub.execute_input": "2024-03-07T01:58:24.014307Z",
          "iopub.status.idle": "2024-03-07T01:58:24.386039Z",
          "shell.execute_reply.started": "2024-03-07T01:58:24.014267Z",
          "shell.execute_reply": "2024-03-07T01:58:24.384567Z"
        },
        "trusted": true
      },
      "execution_count": null,
      "outputs": []
    },
    {
      "cell_type": "markdown",
      "source": [
        "data NumberOfAddress tidak berpengaruh secara signifikan terhadap churn"
      ],
      "metadata": {
        "id": "TM_C8v3TVlMY"
      }
    },
    {
      "cell_type": "code",
      "source": [
        "df.Complain.value_counts()"
      ],
      "metadata": {
        "id": "lUO32zZE3qva",
        "execution": {
          "iopub.status.busy": "2024-03-07T01:58:24.38803Z",
          "iopub.execute_input": "2024-03-07T01:58:24.389652Z",
          "iopub.status.idle": "2024-03-07T01:58:24.399598Z",
          "shell.execute_reply.started": "2024-03-07T01:58:24.389604Z",
          "shell.execute_reply": "2024-03-07T01:58:24.398114Z"
        },
        "trusted": true
      },
      "execution_count": null,
      "outputs": []
    },
    {
      "cell_type": "code",
      "source": [
        "sns.countplot(x= df['Complain'], data = df, hue = 'Churn')"
      ],
      "metadata": {
        "id": "Mw9k1vLo32Kw",
        "execution": {
          "iopub.status.busy": "2024-03-07T01:58:24.40139Z",
          "iopub.execute_input": "2024-03-07T01:58:24.4021Z",
          "iopub.status.idle": "2024-03-07T01:58:24.682613Z",
          "shell.execute_reply.started": "2024-03-07T01:58:24.402045Z",
          "shell.execute_reply": "2024-03-07T01:58:24.681236Z"
        },
        "trusted": true
      },
      "execution_count": null,
      "outputs": []
    },
    {
      "cell_type": "markdown",
      "source": [
        "Complain menjadi data yang dipertahankan (churn1 lebih banyak meski churn 0 lebih dikit)"
      ],
      "metadata": {
        "id": "iK_fLaI25JhM"
      }
    },
    {
      "cell_type": "code",
      "source": [
        "sns.kdeplot(x= df['OrderAmountHikeFromlastYear'], data = df, hue = 'Churn')"
      ],
      "metadata": {
        "id": "89iyWRUU5SuX",
        "execution": {
          "iopub.status.busy": "2024-03-07T01:58:24.684374Z",
          "iopub.execute_input": "2024-03-07T01:58:24.685681Z",
          "iopub.status.idle": "2024-03-07T01:58:25.013414Z",
          "shell.execute_reply.started": "2024-03-07T01:58:24.685625Z",
          "shell.execute_reply": "2024-03-07T01:58:25.011976Z"
        },
        "trusted": true
      },
      "execution_count": null,
      "outputs": []
    },
    {
      "cell_type": "markdown",
      "source": [
        "dat OrderAmounHikeFromLastYear tidak mempengaruhi churn secara signifikan"
      ],
      "metadata": {
        "id": "F4N7tYnbVsEf"
      }
    },
    {
      "cell_type": "code",
      "source": [
        "df.CouponUsed.value_counts()"
      ],
      "metadata": {
        "id": "qO_6ZRYz56b9",
        "execution": {
          "iopub.status.busy": "2024-03-07T01:58:25.01541Z",
          "iopub.execute_input": "2024-03-07T01:58:25.016055Z",
          "iopub.status.idle": "2024-03-07T01:58:25.027993Z",
          "shell.execute_reply.started": "2024-03-07T01:58:25.016016Z",
          "shell.execute_reply": "2024-03-07T01:58:25.026496Z"
        },
        "trusted": true
      },
      "execution_count": null,
      "outputs": []
    },
    {
      "cell_type": "code",
      "source": [
        "plt.figure(figsize=(14,6))\n",
        "sns.kdeplot(x= df['CouponUsed'], data = df, hue = 'Churn')"
      ],
      "metadata": {
        "id": "en3x2UzG6EC4",
        "execution": {
          "iopub.status.busy": "2024-03-07T01:58:25.030194Z",
          "iopub.execute_input": "2024-03-07T01:58:25.030804Z",
          "iopub.status.idle": "2024-03-07T01:58:25.443313Z",
          "shell.execute_reply.started": "2024-03-07T01:58:25.030749Z",
          "shell.execute_reply": "2024-03-07T01:58:25.441866Z"
        },
        "trusted": true
      },
      "execution_count": null,
      "outputs": []
    },
    {
      "cell_type": "markdown",
      "source": [
        "data CoupunUsed tidak membawa pengaruh besar terhadap churn"
      ],
      "metadata": {
        "id": "gQ9rtUWFVzwT"
      }
    },
    {
      "cell_type": "code",
      "source": [
        "df.OrderCount.value_counts()"
      ],
      "metadata": {
        "id": "UKE9Sc01RO2O",
        "execution": {
          "iopub.status.busy": "2024-03-07T01:58:25.445005Z",
          "iopub.execute_input": "2024-03-07T01:58:25.445497Z",
          "iopub.status.idle": "2024-03-07T01:58:25.457338Z",
          "shell.execute_reply.started": "2024-03-07T01:58:25.445459Z",
          "shell.execute_reply": "2024-03-07T01:58:25.455793Z"
        },
        "trusted": true
      },
      "execution_count": null,
      "outputs": []
    },
    {
      "cell_type": "code",
      "source": [
        "sns.kdeplot(x=df['OrderCount'], data = df , hue = 'Churn')"
      ],
      "metadata": {
        "id": "hEJsrW0-SG-A",
        "execution": {
          "iopub.status.busy": "2024-03-07T01:58:25.459845Z",
          "iopub.execute_input": "2024-03-07T01:58:25.460408Z",
          "iopub.status.idle": "2024-03-07T01:58:25.810956Z",
          "shell.execute_reply.started": "2024-03-07T01:58:25.460368Z",
          "shell.execute_reply": "2024-03-07T01:58:25.809512Z"
        },
        "trusted": true
      },
      "execution_count": null,
      "outputs": []
    },
    {
      "cell_type": "markdown",
      "source": [
        "data OrcderCount tidak memberkan efek yg signifikan terhadap Churn"
      ],
      "metadata": {
        "id": "-vKEal97V4aX"
      }
    },
    {
      "cell_type": "code",
      "source": [
        "df.DaySinceLastOrder.value_counts()"
      ],
      "metadata": {
        "id": "H-ROwqxuSZPo",
        "execution": {
          "iopub.status.busy": "2024-03-07T01:58:25.812991Z",
          "iopub.execute_input": "2024-03-07T01:58:25.814329Z",
          "iopub.status.idle": "2024-03-07T01:58:25.827644Z",
          "shell.execute_reply.started": "2024-03-07T01:58:25.814237Z",
          "shell.execute_reply": "2024-03-07T01:58:25.826101Z"
        },
        "trusted": true
      },
      "execution_count": null,
      "outputs": []
    },
    {
      "cell_type": "code",
      "source": [
        "plt.figure(figsize=(14,6))\n",
        "sns.kdeplot(x=df['DaySinceLastOrder'], data = df, hue = 'Churn')"
      ],
      "metadata": {
        "id": "gQ9w9CM9SmGt",
        "execution": {
          "iopub.status.busy": "2024-03-07T01:58:25.82896Z",
          "iopub.execute_input": "2024-03-07T01:58:25.829342Z",
          "iopub.status.idle": "2024-03-07T01:58:26.22182Z",
          "shell.execute_reply.started": "2024-03-07T01:58:25.829309Z",
          "shell.execute_reply": "2024-03-07T01:58:26.220552Z"
        },
        "trusted": true
      },
      "execution_count": null,
      "outputs": []
    },
    {
      "cell_type": "code",
      "source": [
        "sns.countplot(x=df['DaySinceLastOrder'], data = df, hue = 'Churn')"
      ],
      "metadata": {
        "id": "OjBZgDibTE9g",
        "execution": {
          "iopub.status.busy": "2024-03-07T01:58:26.223519Z",
          "iopub.execute_input": "2024-03-07T01:58:26.224855Z",
          "iopub.status.idle": "2024-03-07T01:58:26.962754Z",
          "shell.execute_reply.started": "2024-03-07T01:58:26.224769Z",
          "shell.execute_reply": "2024-03-07T01:58:26.961667Z"
        },
        "trusted": true
      },
      "execution_count": null,
      "outputs": []
    },
    {
      "cell_type": "markdown",
      "source": [
        "data DaySinceLastOrder dengan value antara 1.0 dan 3.0 membawa jumlah churn 1 menuju 0 (meski jumlah churn 0 bertambah)"
      ],
      "metadata": {
        "id": "8IUVNl9MTU-e"
      }
    },
    {
      "cell_type": "code",
      "source": [
        "sns.kdeplot(x=df['CashbackAmount'], data = df, hue='Churn')"
      ],
      "metadata": {
        "id": "xTP1wOC4ToyZ",
        "execution": {
          "iopub.status.busy": "2024-03-07T01:58:26.969434Z",
          "iopub.execute_input": "2024-03-07T01:58:26.969946Z",
          "iopub.status.idle": "2024-03-07T01:58:27.324495Z",
          "shell.execute_reply.started": "2024-03-07T01:58:26.969905Z",
          "shell.execute_reply": "2024-03-07T01:58:27.323072Z"
        },
        "trusted": true
      },
      "execution_count": null,
      "outputs": []
    },
    {
      "cell_type": "markdown",
      "source": [
        "data CashbackAmount tidak membawa pengaruh dignifikan terhadap churn"
      ],
      "metadata": {
        "id": "DZ50w35uV_dN"
      }
    },
    {
      "cell_type": "code",
      "source": [
        "sns.countplot(x=df['PreferredLoginDevice'], data = df, hue ='Churn')"
      ],
      "metadata": {
        "id": "5kjcvLGGUjw1",
        "execution": {
          "iopub.status.busy": "2024-03-07T01:58:27.326449Z",
          "iopub.execute_input": "2024-03-07T01:58:27.326835Z",
          "iopub.status.idle": "2024-03-07T01:58:27.629529Z",
          "shell.execute_reply.started": "2024-03-07T01:58:27.326802Z",
          "shell.execute_reply": "2024-03-07T01:58:27.628009Z"
        },
        "trusted": true
      },
      "execution_count": null,
      "outputs": []
    },
    {
      "cell_type": "markdown",
      "source": [
        "Login device tidak embawa pengarh besar terhadap churn"
      ],
      "metadata": {
        "id": "Nv4ySntAYP7Z"
      }
    },
    {
      "cell_type": "code",
      "source": [
        "sns.countplot(x=df['PreferredPaymentMode'], data = df, hue = 'Churn')"
      ],
      "metadata": {
        "id": "16MxihOyWOV9",
        "execution": {
          "iopub.status.busy": "2024-03-07T01:58:27.631419Z",
          "iopub.execute_input": "2024-03-07T01:58:27.632484Z",
          "iopub.status.idle": "2024-03-07T01:58:28.017482Z",
          "shell.execute_reply.started": "2024-03-07T01:58:27.632432Z",
          "shell.execute_reply": "2024-03-07T01:58:28.016024Z"
        },
        "trusted": true
      },
      "execution_count": null,
      "outputs": []
    },
    {
      "cell_type": "markdown",
      "source": [
        "Paymentmethod tidak membawa pengauh signifikan terhadap churn"
      ],
      "metadata": {
        "id": "z_Z-5jNJYK6n"
      }
    },
    {
      "cell_type": "code",
      "source": [
        "sns.countplot(x=df['Gender'], data = df, hue = 'Churn')"
      ],
      "metadata": {
        "id": "ZH-DRnWDWsfa",
        "execution": {
          "iopub.status.busy": "2024-03-07T01:58:28.019649Z",
          "iopub.execute_input": "2024-03-07T01:58:28.020192Z",
          "iopub.status.idle": "2024-03-07T01:58:28.303364Z",
          "shell.execute_reply.started": "2024-03-07T01:58:28.020122Z",
          "shell.execute_reply": "2024-03-07T01:58:28.301934Z"
        },
        "trusted": true
      },
      "execution_count": null,
      "outputs": []
    },
    {
      "cell_type": "markdown",
      "source": [
        "Gender tidak berpengaruh signifikan terhadap churn"
      ],
      "metadata": {
        "id": "NvrH3yTaYH8P"
      }
    },
    {
      "cell_type": "code",
      "source": [
        "sns.countplot(x=df['MaritalStatus'], data = df, hue = 'Churn')"
      ],
      "metadata": {
        "id": "oHbcTvKeW7R2",
        "execution": {
          "iopub.status.busy": "2024-03-07T01:58:28.305739Z",
          "iopub.execute_input": "2024-03-07T01:58:28.306251Z",
          "iopub.status.idle": "2024-03-07T01:58:28.599087Z",
          "shell.execute_reply.started": "2024-03-07T01:58:28.306208Z",
          "shell.execute_reply": "2024-03-07T01:58:28.59745Z"
        },
        "trusted": true
      },
      "execution_count": null,
      "outputs": []
    },
    {
      "cell_type": "markdown",
      "source": [
        "MaritalStatues value Married memiliki churn 1 lebih rendah dari singe yg churn 0 nya lebih tinggi -> membawa dampak pada churn"
      ],
      "metadata": {
        "id": "fIXjbzfNXArq"
      }
    },
    {
      "cell_type": "code",
      "source": [
        "sns.countplot(x=df['PreferedOrderCat'], data = df, hue = 'Churn')"
      ],
      "metadata": {
        "id": "z47rV7IDXLFO",
        "execution": {
          "iopub.status.busy": "2024-03-07T01:58:28.600782Z",
          "iopub.execute_input": "2024-03-07T01:58:28.601203Z",
          "iopub.status.idle": "2024-03-07T01:58:28.964353Z",
          "shell.execute_reply.started": "2024-03-07T01:58:28.601168Z",
          "shell.execute_reply": "2024-03-07T01:58:28.962911Z"
        },
        "trusted": true
      },
      "execution_count": null,
      "outputs": []
    },
    {
      "cell_type": "markdown",
      "source": [
        "Mobile app pada preferedOrderCat berpengaruh terhdap churn (churn 1 lebih tinggi dari laptop dan accesories yg churn 0 nya jauh lebih tinggi)"
      ],
      "metadata": {
        "id": "1oHRzHPTXYEL"
      }
    },
    {
      "cell_type": "markdown",
      "source": [
        "## Modeling"
      ],
      "metadata": {
        "id": "t_xNTMI5YV3a"
      }
    },
    {
      "cell_type": "markdown",
      "source": [],
      "metadata": {
        "id": "OkVbjpbucfgW"
      }
    },
    {
      "cell_type": "markdown",
      "source": [
        "\n",
        "\n",
        "\n",
        "\n"
      ],
      "metadata": {
        "id": "J3ZSDL6jYfYi"
      }
    }
  ]
}